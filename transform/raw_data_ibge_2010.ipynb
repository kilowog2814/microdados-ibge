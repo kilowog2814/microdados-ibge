{
 "cells": [
  {
   "cell_type": "code",
   "execution_count": null,
   "metadata": {},
   "outputs": [],
   "source": [
    "%idle_timeout 30\n",
    "%glue_version 3.0\n",
    "%worker_type G.1X\n",
    "%number_of_workers 2\n",
    "\n",
    "import boto3\n",
    "import sys\n",
    "import re\n",
    "from awsglue.dynamicframe import DynamicFrame\n",
    "from awsglue.transforms import *\n",
    "from awsglue.utils import getResolvedOptions\n",
    "from pyspark.context import SparkContext\n",
    "from pyspark.sql.functions import *\n",
    "from pyspark.sql.types import *\n",
    "from awsglue.context import GlueContext\n",
    "from awsglue.job import Job\n",
    "from pyspark.sql import Row\n",
    "  \n",
    "sc = SparkContext.getOrCreate()\n",
    "glueContext = GlueContext(sc)\n",
    "spark = glueContext.spark_session\n",
    "job = Job(glueContext)\n",
    "\n",
    "\n",
    "## caminho do arquivo\n",
    "s3_path = \"s3://micro-dados-sp-outros/stage/2010/Amostra_Pessoas_35_RMSP.txt\""
   ]
  },
  {
   "cell_type": "markdown",
   "metadata": {},
   "source": [
    "### Leitura do arquivo do S3"
   ]
  },
  {
   "cell_type": "code",
   "execution_count": null,
   "metadata": {},
   "outputs": [],
   "source": [
    "arquivo = spark.read.text(s3_path).rdd"
   ]
  },
  {
   "cell_type": "markdown",
   "metadata": {},
   "source": [
    "## Definição da função de remover espaços"
   ]
  },
  {
   "cell_type": "code",
   "execution_count": null,
   "metadata": {},
   "outputs": [],
   "source": [
    "def remover_espacos(linha):\n",
    "    \n",
    "    linha = linha[\"value\"].strip()\n",
    "    linha = re.sub(r'\\s+', '', linha)\n",
    "    \n",
    "    return Row(linha=linha)"
   ]
  },
  {
   "cell_type": "code",
   "execution_count": null,
   "metadata": {},
   "outputs": [],
   "source": [
    "linhas_ajustadas = arquivo.map(remover_espacos)"
   ]
  },
  {
   "cell_type": "code",
   "execution_count": null,
   "metadata": {},
   "outputs": [],
   "source": [
    "schema = StructType([StructField(\"linha\", StringType(), True)])\n",
    "\n",
    "df_linhas_ajustadas = spark.createDataFrame(linhas_ajustadas, schema)"
   ]
  },
  {
   "cell_type": "markdown",
   "metadata": {},
   "source": [
    "### Definição da lista de variaveis, conforme o dicionario de dados do IBGE"
   ]
  },
  {
   "cell_type": "code",
   "execution_count": null,
   "metadata": {},
   "outputs": [],
   "source": [
    "# Informações conforme os dados disponibilizados pelo IBGE\n",
    "# ('Nome da Coluna', inicio, deslocamento)\n",
    "\n",
    "columns = [\n",
    "    ('V0001', 1, 2),\n",
    "    ('V0002', 3, 7),\n",
    "    ('V0011', 8, 20),\n",
    "    ('V0300', 21, 28),\n",
    "    ('V0010', 29, 44),\n",
    "    ('V1001', 45, 45),\n",
    "    ('V1002', 46, 47),\n",
    "    ('V1003', 48, 50),\n",
    "    ('V1004', 51, 52),\n",
    "    ('V1006', 53, 53),\n",
    "    ('V0502', 54, 55),\n",
    "    ('V0504', 56, 57),\n",
    "    ('V0601', 58, 58),\n",
    "    ('V6033', 59, 61),\n",
    "    ('V6036', 62, 64),\n",
    "    ('V6037', 65, 66),\n",
    "    ('V6040', 67, 67),\n",
    "    ('V0606', 68, 68),\n",
    "    ('V0613', 69, 69),\n",
    "    ('V0614', 70, 70),\n",
    "    ('V0615', 71, 71),\n",
    "    ('V0616', 72, 72),\n",
    "    ('V0617', 73, 73),\n",
    "    ('V0618', 74, 74),\n",
    "    ('V0619', 75, 75),\n",
    "    ('V0620', 76, 76),\n",
    "    ('V0621', 77, 80),\n",
    "    ('V0622', 81, 81),\n",
    "    ('V6222', 82, 88),\n",
    "    ('V6224', 89, 95),\n",
    "    ('V0623', 96, 98),\n",
    "    ('V0624', 99, 101),\n",
    "    ('V0625', 102, 102),\n",
    "    ('V6252', 103, 109),\n",
    "    ('V6254', 110, 116),\n",
    "    ('V6256', 117, 123),\n",
    "    ('V0626', 124, 124),\n",
    "    ('V6262', 125, 131),\n",
    "    ('V6264', 132, 138),\n",
    "    ('V6266', 139, 145),\n",
    "    ('V0627', 146, 146),\n",
    "    ('V0628', 147, 147),\n",
    "    ('V0629', 148, 149),\n",
    "    ('V0630', 150, 151),\n",
    "    ('V0631', 152, 152),\n",
    "    ('V0632', 153, 153),\n",
    "    ('V0633', 154, 155),\n",
    "    ('V0634', 156, 156),\n",
    "    ('V0635', 157, 157),\n",
    "    ('V6400', 158, 158),\n",
    "    ('V6352', 159, 161),\n",
    "    ('V6354', 162, 164),\n",
    "    ('V6356', 165, 167),\n",
    "    ('V0636', 168, 168),\n",
    "    ('V6362', 169, 175),\n",
    "    ('V6364', 176, 182),\n",
    "    ('V6366', 183, 189),\n",
    "    ('V0637', 190, 190),\n",
    "    ('V0638', 191, 192),\n",
    "    ('V0639', 193, 193),\n",
    "    ('V0640', 194, 194),\n",
    "    ('V0641', 195, 195),\n",
    "    ('V0642', 196, 196),\n",
    "    ('V0643', 197, 197),\n",
    "    ('V0644', 198, 198),\n",
    "    ('V0645', 199, 199),\n",
    "    ('V6461', 200, 203),\n",
    "    ('V6471', 204, 208),\n",
    "    ('V0648', 209, 209),\n",
    "    ('V0649', 210, 210),\n",
    "    ('V0650', 211, 211),\n",
    "    ('V0651', 212, 212),\n",
    "    ('V6511', 213, 218),\n",
    "    ('V6513', 219, 224),\n",
    "    ('V6514', 225, 230),\n",
    "    ('V0652', 231, 231),\n",
    "    ('V6521', 232, 237),\n",
    "    ('V6524', 238, 246),\n",
    "    ('V6525', 247, 253),\n",
    "    ('V6526', 254, 262),\n",
    "    ('V6527', 263, 269),\n",
    "    ('V6528', 270, 278),\n",
    "    ('V6529', 279, 285),\n",
    "    ('V6530', 286, 295),\n",
    "    ('V6531', 296, 303),\n",
    "    ('V6532', 304, 312),\n",
    "    ('V0653', 313, 315),\n",
    "    ('V0654', 316, 316),\n",
    "    ('V0655', 317, 317),\n",
    "    ('V0656', 318, 318),\n",
    "    ('V0657', 319, 319),\n",
    "    ('V0658', 320, 320),\n",
    "    ('V0659', 321, 321),\n",
    "    ('V6591', 322, 327),\n",
    "    ('V0660', 328, 328),\n",
    "    ('V6602', 329, 335),\n",
    "    ('V6604', 336, 342),\n",
    "    ('V6606', 343, 349),\n",
    "    ('V0661', 350, 350),\n",
    "    ('V0662', 351, 351),\n",
    "    ('V0663', 352, 352),\n",
    "    ('V6631', 353, 354),\n",
    "    ('V6632', 355, 356),\n",
    "    ('V6633', 357, 358),\n",
    "    ('V0664', 359, 359),\n",
    "    ('V6641', 360, 361),\n",
    "    ('V6642', 362, 363),\n",
    "    ('V6643', 364, 365),\n",
    "    ('V0665', 366, 366),\n",
    "    ('V6660', 367, 369),\n",
    "    ('V6664', 370, 370),\n",
    "    ('V0667', 371, 371),\n",
    "    ('V0668', 372, 372),\n",
    "    ('V6681', 373, 374),\n",
    "    ('V6682', 375, 378),\n",
    "    ('V0669', 379, 379),\n",
    "    ('V6691', 380, 381),\n",
    "    ('V6692', 382, 383),\n",
    "    ('V6693', 384, 385),\n",
    "    ('V6800', 386, 387),\n",
    "    ('V0670', 388, 388),\n",
    "    ('V0671', 389, 390),\n",
    "    ('V6900', 391, 391),\n",
    "    ('V6910', 392, 392),\n",
    "    ('V6920', 393, 393),\n",
    "    ('V6930', 394, 394),\n",
    "    ('V6940', 395, 395),\n",
    "    ('V1005', 172, 172)\n",
    "]"
   ]
  },
  {
   "cell_type": "markdown",
   "metadata": {},
   "source": [
    "### Aplicação da substring nas colunas"
   ]
  },
  {
   "cell_type": "code",
   "execution_count": null,
   "metadata": {},
   "outputs": [],
   "source": [
    "def extract_variable(data, start, end):\n",
    "    return data[start-1:end]\n",
    "\n",
    "def create_udf(start, end):\n",
    "    return udf(lambda data: extract_variable(data, start, end), StringType())"
   ]
  },
  {
   "cell_type": "code",
   "execution_count": null,
   "metadata": {},
   "outputs": [],
   "source": [
    "for var, start, end in columns:\n",
    "    df_linhas_ajustadas = df_linhas_ajustadas.withColumn(var, create_udf(start, end)(df_linhas_ajustadas[\"linha\"]))"
   ]
  },
  {
   "cell_type": "code",
   "execution_count": null,
   "metadata": {},
   "outputs": [],
   "source": [
    "df_linhas_ajustadas = df_linhas_ajustadas.select([col(column).cast('int') for column in df_linhas_ajustadas.columns])"
   ]
  },
  {
   "cell_type": "markdown",
   "metadata": {},
   "source": [
    "### Removendo coluna inicial"
   ]
  },
  {
   "cell_type": "code",
   "execution_count": null,
   "metadata": {},
   "outputs": [],
   "source": [
    "raw_data = df_linhas_ajustadas.drop('linha')"
   ]
  },
  {
   "cell_type": "code",
   "execution_count": null,
   "metadata": {},
   "outputs": [],
   "source": [
    "raw_data_dynamic_frame = DynamicFrame.fromDF(raw_data, glueContext, \"raw_data_dynamic_frame\")"
   ]
  },
  {
   "cell_type": "markdown",
   "metadata": {},
   "source": [
    "### Salvando os dados na camada bronze"
   ]
  },
  {
   "cell_type": "code",
   "execution_count": null,
   "metadata": {},
   "outputs": [],
   "source": [
    "# Configuração do destino S3\n",
    "s3_parquet = glueContext.getSink(\n",
    "    path=\"s3://micro-dados-sp-outros/bronze/2010/\",\n",
    "    connection_type=\"s3\",\n",
    "    updateBehavior=\"UPDATE_IN_DATABASE\",\n",
    "    partitionKeys=[\"V0002\"],\n",
    "    compression=\"gzip\",\n",
    "    enableUpdateCatalog=True,\n",
    "    transformation_ctx=\"s3_parquet\",\n",
    ")\n",
    "\n",
    "# Definindo informações do catálogo\n",
    "s3_parquet.setCatalogInfo(\n",
    "    catalogDatabase=\"ibge\", catalogTableName=\"micro_dados_sp_outros\"\n",
    ")\n",
    "\n",
    "# Definindo o formato dos dados\n",
    "s3_parquet.setFormat(\"glueparquet\")\n",
    "\n",
    "# Escrevendo os dados\n",
    "s3_parquet.writeFrame(raw_data_dynamic_frame)\n"
   ]
  }
 ],
 "metadata": {
  "language_info": {
   "name": "python"
  }
 },
 "nbformat": 4,
 "nbformat_minor": 2
}
